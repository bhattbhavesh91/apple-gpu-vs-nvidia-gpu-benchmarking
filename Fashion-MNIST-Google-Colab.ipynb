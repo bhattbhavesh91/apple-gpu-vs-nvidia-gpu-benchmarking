{
  "cells": [
    {
      "cell_type": "code",
      "execution_count": null,
      "metadata": {
        "id": "5aWDN_TdfTMq"
      },
      "outputs": [],
      "source": [
        "import matplotlib.pylab as plt \n",
        "import numpy as np \n",
        "import keras\n",
        "import time\n",
        "import tensorflow as tf\n",
        "from matplotlib import pyplot\n",
        "from keras.datasets import fashion_mnist\n",
        "from keras.models import Sequential\n",
        "from keras.layers import Dense,Flatten,Dropout\n",
        "from keras.layers import Conv2D,MaxPooling2D\n",
        "from tensorflow.keras.utils import to_categorical"
      ]
    },
    {
      "cell_type": "code",
      "source": [
        "!nvidia-smi"
      ],
      "metadata": {
        "colab": {
          "base_uri": "https://localhost:8080/"
        },
        "id": "WKznumKdjcPl",
        "outputId": "85680005-2f3c-4a67-dd9a-f6710aadc40b"
      },
      "execution_count": null,
      "outputs": [
        {
          "output_type": "stream",
          "name": "stdout",
          "text": [
            "Tue Jan  3 07:34:56 2023       \n",
            "+-----------------------------------------------------------------------------+\n",
            "| NVIDIA-SMI 460.32.03    Driver Version: 460.32.03    CUDA Version: 11.2     |\n",
            "|-------------------------------+----------------------+----------------------+\n",
            "| GPU  Name        Persistence-M| Bus-Id        Disp.A | Volatile Uncorr. ECC |\n",
            "| Fan  Temp  Perf  Pwr:Usage/Cap|         Memory-Usage | GPU-Util  Compute M. |\n",
            "|                               |                      |               MIG M. |\n",
            "|===============================+======================+======================|\n",
            "|   0  Tesla T4            Off  | 00000000:00:04.0 Off |                    0 |\n",
            "| N/A   62C    P0    27W /  70W |      0MiB / 15109MiB |      0%      Default |\n",
            "|                               |                      |                  N/A |\n",
            "+-------------------------------+----------------------+----------------------+\n",
            "                                                                               \n",
            "+-----------------------------------------------------------------------------+\n",
            "| Processes:                                                                  |\n",
            "|  GPU   GI   CI        PID   Type   Process name                  GPU Memory |\n",
            "|        ID   ID                                                   Usage      |\n",
            "|=============================================================================|\n",
            "|  No running processes found                                                 |\n",
            "+-----------------------------------------------------------------------------+\n"
          ]
        }
      ]
    },
    {
      "cell_type": "markdown",
      "metadata": {
        "id": "Gkx2BmmHjW5J"
      },
      "source": [
        "# Train Model on CPU"
      ]
    },
    {
      "cell_type": "code",
      "execution_count": null,
      "metadata": {
        "id": "RrMGivuajW5K"
      },
      "outputs": [],
      "source": [
        "tf.config.set_visible_devices([], 'GPU')"
      ]
    },
    {
      "cell_type": "markdown",
      "metadata": {
        "id": "noHsxCb0buUF"
      },
      "source": [
        "# Fashion MNIST Load Dataset"
      ]
    },
    {
      "cell_type": "code",
      "execution_count": null,
      "metadata": {
        "colab": {
          "base_uri": "https://localhost:8080/"
        },
        "id": "DIBXz1uLb4T3",
        "outputId": "69b8d372-c6fe-4eb4-bb80-338927b37cc2"
      },
      "outputs": [
        {
          "output_type": "stream",
          "name": "stdout",
          "text": [
            "Downloading data from https://storage.googleapis.com/tensorflow/tf-keras-datasets/train-labels-idx1-ubyte.gz\n",
            "29515/29515 [==============================] - 0s 0us/step\n",
            "Downloading data from https://storage.googleapis.com/tensorflow/tf-keras-datasets/train-images-idx3-ubyte.gz\n",
            "26421880/26421880 [==============================] - 1s 0us/step\n",
            "Downloading data from https://storage.googleapis.com/tensorflow/tf-keras-datasets/t10k-labels-idx1-ubyte.gz\n",
            "5148/5148 [==============================] - 0s 0us/step\n",
            "Downloading data from https://storage.googleapis.com/tensorflow/tf-keras-datasets/t10k-images-idx3-ubyte.gz\n",
            "4422102/4422102 [==============================] - 0s 0us/step\n"
          ]
        }
      ],
      "source": [
        "(x_train, y_train), (x_test, y_test) = fashion_mnist.load_data()"
      ]
    },
    {
      "cell_type": "code",
      "execution_count": null,
      "metadata": {
        "id": "2nyXvDn0b4j1"
      },
      "outputs": [],
      "source": [
        "assert x_train.shape==(60000,28,28)\n",
        "assert x_test.shape==(10000,28,28)\n",
        "assert y_train.shape==(60000,)\n",
        "assert y_test.shape==(10000,)"
      ]
    },
    {
      "cell_type": "code",
      "execution_count": null,
      "metadata": {
        "colab": {
          "base_uri": "https://localhost:8080/",
          "height": 283
        },
        "id": "12n3STLkdKEV",
        "outputId": "5d7e55cc-2776-4afb-b6f5-56ef252a5cb8"
      },
      "outputs": [
        {
          "output_type": "execute_result",
          "data": {
            "text/plain": [
              "<matplotlib.image.AxesImage at 0x7f6d22ff4340>"
            ]
          },
          "metadata": {},
          "execution_count": 6
        },
        {
          "output_type": "display_data",
          "data": {
            "text/plain": [
              "<Figure size 432x288 with 1 Axes>"
            ],
            "image/png": "[encoded data removed]"
          },
          "metadata": {
            "needs_background": "light"
          }
        }
      ],
      "source": [
        "plt.imshow(x_train[0])"
      ]
    },
    {
      "cell_type": "code",
      "execution_count": null,
      "metadata": {
        "colab": {
          "base_uri": "https://localhost:8080/",
          "height": 268
        },
        "id": "z2GXehdQV3xr",
        "outputId": "52381552-011c-4822-f965-c859de3d1aad"
      },
      "outputs": [
        {
          "output_type": "display_data",
          "data": {
            "text/plain": [
              "<Figure size 432x288 with 9 Axes>"
            ],
            "image/png": "[encoded data removed]"
          },
          "metadata": {
            "needs_background": "light"
          }
        }
      ],
      "source": [
        "for i in range(9):\n",
        "    pyplot.subplot(330+1+ i)\n",
        "    pyplot.imshow(x_train[i])\n",
        "pyplot.show()"
      ]
    },
    {
      "cell_type": "markdown",
      "metadata": {
        "id": "5a8cr5JObx5G"
      },
      "source": [
        "# Preprocessing"
      ]
    },
    {
      "cell_type": "code",
      "execution_count": null,
      "metadata": {
        "colab": {
          "base_uri": "https://localhost:8080/"
        },
        "id": "zmyYwmC_ctmu",
        "outputId": "38a7aa9d-f174-475c-d071-9101958b3584"
      },
      "outputs": [
        {
          "output_type": "stream",
          "name": "stdout",
          "text": [
            "(60000, 28, 28, 1)\n",
            "(10000, 28, 28, 1)\n"
          ]
        }
      ],
      "source": [
        "# Reshape the training data into a form which can be easily \n",
        "# identified by the cnn model as corresponding to greyscale images.\n",
        "x_train = x_train.reshape(60000,28,28,1)\n",
        "x_test = x_test.reshape(10000,28,28,1)\n",
        "print(x_train.shape)\n",
        "print(x_test.shape)"
      ]
    },
    {
      "cell_type": "code",
      "execution_count": null,
      "metadata": {
        "colab": {
          "base_uri": "https://localhost:8080/"
        },
        "id": "bZSkGppwePKU",
        "outputId": "054db6d9-6e3b-4cf1-d69e-94f47b153271"
      },
      "outputs": [
        {
          "output_type": "stream",
          "name": "stdout",
          "text": [
            "(60000, 1)\n",
            "(10000, 1)\n"
          ]
        }
      ],
      "source": [
        "# reshape the y training and test data and use one hot encoding \n",
        "y_train=y_train.reshape(60000,1)\n",
        "y_test=y_test.reshape(10000,1)\n",
        "print(y_train.shape)\n",
        "print(y_test.shape)\n",
        "y_train = to_categorical(y_train)\n",
        "y_test = to_categorical(y_test)"
      ]
    },
    {
      "cell_type": "markdown",
      "metadata": {
        "id": "fuAOfPBOgj9h"
      },
      "source": [
        "# Model"
      ]
    },
    {
      "cell_type": "code",
      "execution_count": null,
      "metadata": {
        "id": "9dFnuNZwb5d-"
      },
      "outputs": [],
      "source": [
        "model = Sequential()\n",
        "\n",
        "model.add(Conv2D(64,\n",
        "                 kernel_size=3,\n",
        "                 activation='relu',\n",
        "                 input_shape=(28,28,1),\n",
        "                 name='conv_1'))\n",
        "\n",
        "model.add(MaxPooling2D(pool_size=(2,2),\n",
        "                       name='max_pool_1'))\n",
        "\n",
        "model.add(Conv2D(32,\n",
        "                 kernel_size=3,\n",
        "                 activation='relu',\n",
        "                 name='conv_2'))\n",
        "\n",
        "model.add(MaxPooling2D(pool_size=(2,2),\n",
        "                       name='max_pool_2'))\n",
        "\n",
        "model.add(Flatten(name='flatten'))\n",
        "\n",
        "model.add(Dense(10,activation='softmax'))"
      ]
    },
    {
      "cell_type": "code",
      "execution_count": null,
      "metadata": {
        "colab": {
          "base_uri": "https://localhost:8080/"
        },
        "id": "0Hhmdn6Sb5mc",
        "outputId": "422dca8c-a8e8-4ed3-8610-3566ee3af5ca"
      },
      "outputs": [
        {
          "output_type": "stream",
          "name": "stdout",
          "text": [
            "Model: \"sequential\"\n",
            "_________________________________________________________________\n",
            " Layer (type)                Output Shape              Param #   \n",
            "=================================================================\n",
            " conv_1 (Conv2D)             (None, 26, 26, 64)        640       \n",
            "                                                                 \n",
            " max_pool_1 (MaxPooling2D)   (None, 13, 13, 64)        0         \n",
            "                                                                 \n",
            " conv_2 (Conv2D)             (None, 11, 11, 32)        18464     \n",
            "                                                                 \n",
            " max_pool_2 (MaxPooling2D)   (None, 5, 5, 32)          0         \n",
            "                                                                 \n",
            " flatten (Flatten)           (None, 800)               0         \n",
            "                                                                 \n",
            " dense (Dense)               (None, 10)                8010      \n",
            "                                                                 \n",
            "=================================================================\n",
            "Total params: 27,114\n",
            "Trainable params: 27,114\n",
            "Non-trainable params: 0\n",
            "_________________________________________________________________\n"
          ]
        }
      ],
      "source": [
        "model.summary()"
      ]
    },
    {
      "cell_type": "code",
      "execution_count": null,
      "metadata": {
        "id": "bzePJxtgnd12"
      },
      "outputs": [],
      "source": [
        "model.compile(loss = 'categorical_crossentropy',\n",
        "              optimizer = 'adam',\n",
        "              metrics = ['accuracy'])"
      ]
    },
    {
      "cell_type": "markdown",
      "metadata": {
        "id": "0pjI7pS6oUki"
      },
      "source": [
        "## Training"
      ]
    },
    {
      "cell_type": "code",
      "execution_count": null,
      "metadata": {
        "colab": {
          "base_uri": "https://localhost:8080/"
        },
        "id": "js9clodsn30C",
        "outputId": "8da94d06-d376-40c1-be6d-95940fcb2934"
      },
      "outputs": [
        {
          "output_type": "stream",
          "name": "stdout",
          "text": [
            "Epoch 1/10\n",
            "469/469 [==============================] - 64s 133ms/step - loss: 1.3442 - accuracy: 0.7390\n",
            "Epoch 2/10\n",
            "469/469 [==============================] - 58s 124ms/step - loss: 0.4698 - accuracy: 0.8317\n",
            "Epoch 3/10\n",
            "469/469 [==============================] - 57s 121ms/step - loss: 0.4070 - accuracy: 0.8533\n",
            "Epoch 4/10\n",
            "469/469 [==============================] - 58s 124ms/step - loss: 0.3712 - accuracy: 0.8645\n",
            "Epoch 5/10\n",
            "469/469 [==============================] - 57s 121ms/step - loss: 0.3435 - accuracy: 0.8751\n",
            "Epoch 6/10\n",
            "469/469 [==============================] - 56s 120ms/step - loss: 0.3272 - accuracy: 0.8796\n",
            "Epoch 7/10\n",
            "469/469 [==============================] - 57s 122ms/step - loss: 0.3132 - accuracy: 0.8849\n",
            "Epoch 8/10\n",
            "469/469 [==============================] - 56s 120ms/step - loss: 0.3010 - accuracy: 0.8898\n",
            "Epoch 9/10\n",
            "469/469 [==============================] - 56s 120ms/step - loss: 0.2930 - accuracy: 0.8931\n",
            "Epoch 10/10\n",
            "469/469 [==============================] - 57s 122ms/step - loss: 0.2842 - accuracy: 0.8950\n",
            "Total Training time on Apple Silicon GPU = 576.2774243354797\n"
          ]
        }
      ],
      "source": [
        "s = time.time()\n",
        "\n",
        "history = model.fit(x_train, \n",
        "                  y_train, \n",
        "                  epochs=10,\n",
        "                  batch_size=128)\n",
        "\n",
        "e = time.time()\n",
        "\n",
        "colab_time = e - s\n",
        "\n",
        "print(\"Total Training time on Google Colab GPU = {}\".format(colab_time))"
      ]
    },
    {
      "cell_type": "code",
      "execution_count": null,
      "metadata": {
        "colab": {
          "base_uri": "https://localhost:8080/"
        },
        "id": "F5d99BzCojqQ",
        "outputId": "c017fb68-d9be-47e6-9ad2-3b8f345e2cac"
      },
      "outputs": [
        {
          "output_type": "stream",
          "name": "stdout",
          "text": [
            "Loss on running test :  0.34089693427085876\n",
            "Accuracy on running test :  0.8791999816894531\n"
          ]
        }
      ],
      "source": [
        "score = model.evaluate(x_test, y_test, verbose = 0)\n",
        "print('Loss on running test : ', score[0])\n",
        "print('Accuracy on running test : ', score[1])"
      ]
    },
    {
      "cell_type": "code",
      "execution_count": null,
      "metadata": {
        "id": "GIRaT0RvgeZ_"
      },
      "outputs": [],
      "source": []
    }
  ],
  "metadata": {
    "accelerator": "GPU",
    "colab": {
      "provenance": []
    },
    "kernelspec": {
      "display_name": "Python 3 (ipykernel)",
      "language": "python",
      "name": "python3"
    },
    "language_info": {
      "codemirror_mode": {
        "name": "ipython",
        "version": 3
      },
      "file_extension": ".py",
      "mimetype": "text/x-python",
      "name": "python",
      "nbconvert_exporter": "python",
      "pygments_lexer": "ipython3",
      "version": "3.9.13"
    },
    "gpuClass": "standard"
  },
  "nbformat": 4,
  "nbformat_minor": 0
}